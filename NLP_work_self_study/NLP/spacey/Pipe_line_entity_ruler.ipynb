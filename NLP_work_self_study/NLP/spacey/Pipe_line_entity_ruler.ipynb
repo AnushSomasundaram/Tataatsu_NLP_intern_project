{
 "cells": [
  {
   "cell_type": "code",
   "execution_count": 1,
   "id": "4c33438f",
   "metadata": {},
   "outputs": [],
   "source": [
    "import spacy\n",
    "from spacy.language import Language\n"
   ]
  },
  {
   "cell_type": "code",
   "execution_count": 2,
   "id": "393d25af",
   "metadata": {},
   "outputs": [],
   "source": [
    "nlp = spacy.blank(\"en\")"
   ]
  },
  {
   "cell_type": "code",
   "execution_count": 3,
   "id": "d55eb07c",
   "metadata": {},
   "outputs": [
    {
     "data": {
      "text/plain": [
       "[]"
      ]
     },
     "execution_count": 3,
     "metadata": {},
     "output_type": "execute_result"
    }
   ],
   "source": [
    "nlp.pipeline"
   ]
  },
  {
   "cell_type": "code",
   "execution_count": 6,
   "id": "21a099ef",
   "metadata": {},
   "outputs": [],
   "source": [
    "nlp.add_pipe(nlp.create_pipe(\"entity_ruler\"))"
   ]
  },
  {
   "cell_type": "code",
   "execution_count": 7,
   "id": "5a33013c",
   "metadata": {},
   "outputs": [
    {
     "data": {
      "text/plain": [
       "[('entity_ruler', <spacy.pipeline.entityruler.EntityRuler at 0x7f8c883225e0>)]"
      ]
     },
     "execution_count": 7,
     "metadata": {},
     "output_type": "execute_result"
    }
   ],
   "source": [
    "nlp.pipeline"
   ]
  },
  {
   "cell_type": "code",
   "execution_count": 8,
   "id": "82ab3526",
   "metadata": {},
   "outputs": [],
   "source": [
    "doc = nlp(\"Hello, this is a test sentence\")"
   ]
  },
  {
   "cell_type": "code",
   "execution_count": 13,
   "id": "a5aa8be2",
   "metadata": {},
   "outputs": [
    {
     "data": {
      "text/plain": [
       "()"
      ]
     },
     "execution_count": 13,
     "metadata": {},
     "output_type": "execute_result"
    }
   ],
   "source": [
    "doc.ents"
   ]
  },
  {
   "cell_type": "code",
   "execution_count": 10,
   "id": "04fc72b0-7efb-472a-bf40-f1a8b2ee2909",
   "metadata": {},
   "outputs": [
    {
     "data": {
      "text/plain": [
       "Hello, this is a test sentence"
      ]
     },
     "execution_count": 10,
     "metadata": {},
     "output_type": "execute_result"
    }
   ],
   "source": [
    "doc\n"
   ]
  },
  {
   "cell_type": "code",
   "execution_count": 14,
   "id": "7487083e-6182-4ed3-b354-a6d61ab0043c",
   "metadata": {},
   "outputs": [],
   "source": [
    "nlp2 = spacy.load(\"en_core_web_sm\")"
   ]
  },
  {
   "cell_type": "code",
   "execution_count": 19,
   "id": "35a9aca6-8185-4ff5-8b6f-423b703511a8",
   "metadata": {},
   "outputs": [
    {
     "data": {
      "text/plain": [
       "[('tagger', <spacy.pipeline.pipes.Tagger at 0x7f8c985198b0>),\n",
       " ('parser', <spacy.pipeline.pipes.DependencyParser at 0x7f8c98524100>),\n",
       " ('ner', <spacy.pipeline.pipes.EntityRecognizer at 0x7f8c98524640>)]"
      ]
     },
     "execution_count": 19,
     "metadata": {},
     "output_type": "execute_result"
    }
   ],
   "source": [
    "nlp2.pipeline"
   ]
  },
  {
   "cell_type": "code",
   "execution_count": 25,
   "id": "9b71ee4a-45b4-4a0c-91b3-cabb5cf50e77",
   "metadata": {},
   "outputs": [],
   "source": [
    "nlp2.add_pipe(nlp2.create_pipe(\"entity_ruler\"))"
   ]
  },
  {
   "cell_type": "code",
   "execution_count": 26,
   "id": "1d6c42ca-b452-4aa1-b2dd-cd13f45cc400",
   "metadata": {},
   "outputs": [
    {
     "data": {
      "text/plain": [
       "[('tagger', <spacy.pipeline.pipes.Tagger at 0x7f8c985198b0>),\n",
       " ('parser', <spacy.pipeline.pipes.DependencyParser at 0x7f8c98524100>),\n",
       " ('ner', <spacy.pipeline.pipes.EntityRecognizer at 0x7f8c98524640>),\n",
       " ('entity_ruler', <spacy.pipeline.entityruler.EntityRuler at 0x7f8cb9f98850>)]"
      ]
     },
     "execution_count": 26,
     "metadata": {},
     "output_type": "execute_result"
    }
   ],
   "source": [
    "nlp2.pipeline\n"
   ]
  },
  {
   "cell_type": "code",
   "execution_count": 28,
   "id": "fe10c9f3-6fd8-4996-9ff0-c720ba371fb6",
   "metadata": {},
   "outputs": [],
   "source": [
    "nlp = spacy.load(\"en_core_web_sm\")\n",
    "text = \"West Chestertenfieldville was references in MR. Deeds\""
   ]
  },
  {
   "cell_type": "code",
   "execution_count": 29,
   "id": "65a78dd6-b17a-4973-96a6-314660f7e77e",
   "metadata": {},
   "outputs": [],
   "source": [
    "doc = nlp(text)"
   ]
  },
  {
   "cell_type": "code",
   "execution_count": 30,
   "id": "db686e3e-1a3b-4d86-8dc3-a2b20717e6c2",
   "metadata": {},
   "outputs": [
    {
     "name": "stdout",
     "output_type": "stream",
     "text": [
      "West Chestertenfieldville PERSON\n",
      "MR GPE\n"
     ]
    }
   ],
   "source": [
    "for ent in doc.ents:\n",
    "    print(ent.text, ent.label_)"
   ]
  },
  {
   "cell_type": "code",
   "execution_count": 32,
   "id": "839376a8-b1e8-42c6-ba24-6fc7a53e9d54",
   "metadata": {},
   "outputs": [],
   "source": [
    "ruler = nlp.add_pipe(nlp.create_pipe(\"entity_ruler\"))"
   ]
  },
  {
   "cell_type": "code",
   "execution_count": 34,
   "id": "ea7d9987-0fea-49fa-b2ed-cb724657d1fc",
   "metadata": {},
   "outputs": [
    {
     "data": {
      "text/plain": [
       "[('tagger', <spacy.pipeline.pipes.Tagger at 0x7f8cba0c8070>),\n",
       " ('parser', <spacy.pipeline.pipes.DependencyParser at 0x7f8cba0d0220>),\n",
       " ('ner', <spacy.pipeline.pipes.EntityRecognizer at 0x7f8cba0d0760>),\n",
       " ('entity_ruler', <spacy.pipeline.entityruler.EntityRuler at 0x7f8cbd229dc0>)]"
      ]
     },
     "execution_count": 34,
     "metadata": {},
     "output_type": "execute_result"
    }
   ],
   "source": [
    "nlp.pipeline"
   ]
  },
  {
   "cell_type": "code",
   "execution_count": 35,
   "id": "810f1748-608e-45bd-ae23-2d869a066354",
   "metadata": {},
   "outputs": [],
   "source": [
    "patterns = [\n",
    "            {\"label\":\"GPE\",\"pattern\":\"West Chestertenfieldville\"}\n",
    "           \n",
    "           ]"
   ]
  },
  {
   "cell_type": "code",
   "execution_count": 36,
   "id": "edd74a43-0b5f-4542-86e5-a32f5dc71395",
   "metadata": {},
   "outputs": [
    {
     "ename": "AttributeError",
     "evalue": "'NoneType' object has no attribute 'add_patterns'",
     "output_type": "error",
     "traceback": [
      "\u001b[0;31m---------------------------------------------------------------------------\u001b[0m",
      "\u001b[0;31mAttributeError\u001b[0m                            Traceback (most recent call last)",
      "\u001b[0;32m<ipython-input-36-a7489da3b50c>\u001b[0m in \u001b[0;36m<module>\u001b[0;34m\u001b[0m\n\u001b[0;32m----> 1\u001b[0;31m \u001b[0mruler\u001b[0m\u001b[0;34m.\u001b[0m\u001b[0madd_patterns\u001b[0m\u001b[0;34m(\u001b[0m\u001b[0mpatterns\u001b[0m\u001b[0;34m)\u001b[0m\u001b[0;34m\u001b[0m\u001b[0;34m\u001b[0m\u001b[0m\n\u001b[0m",
      "\u001b[0;31mAttributeError\u001b[0m: 'NoneType' object has no attribute 'add_patterns'"
     ]
    }
   ],
   "source": [
    "ruler.add_patterns(patterns)"
   ]
  },
  {
   "cell_type": "code",
   "execution_count": 37,
   "id": "596b0358-8347-4aa6-b253-75d32e12bc80",
   "metadata": {},
   "outputs": [
    {
     "data": {
      "text/plain": [
       "<spacy.vocab.Vocab at 0x7f8cba04d2c0>"
      ]
     },
     "execution_count": 37,
     "metadata": {},
     "output_type": "execute_result"
    }
   ],
   "source": [
    "nlp.vocab\n"
   ]
  },
  {
   "cell_type": "code",
   "execution_count": 40,
   "id": "772c26fa-65eb-4df3-ba09-d7eb553291e3",
   "metadata": {},
   "outputs": [
    {
     "ename": "NameError",
     "evalue": "name 'Matcher' is not defined",
     "output_type": "error",
     "traceback": [
      "\u001b[0;31m---------------------------------------------------------------------------\u001b[0m",
      "\u001b[0;31mNameError\u001b[0m                                 Traceback (most recent call last)",
      "\u001b[0;32m<ipython-input-40-9637d7ba4418>\u001b[0m in \u001b[0;36m<module>\u001b[0;34m\u001b[0m\n\u001b[0;32m----> 1\u001b[0;31m \u001b[0mMatcher\u001b[0m\u001b[0;34m(\u001b[0m\u001b[0mnlp\u001b[0m\u001b[0;34m.\u001b[0m\u001b[0mvocab\u001b[0m\u001b[0;34m)\u001b[0m\u001b[0;34m\u001b[0m\u001b[0;34m\u001b[0m\u001b[0m\n\u001b[0m",
      "\u001b[0;31mNameError\u001b[0m: name 'Matcher' is not defined"
     ]
    }
   ],
   "source": [
    "Matcher(nlp.vocab)"
   ]
  },
  {
   "cell_type": "code",
   "execution_count": null,
   "id": "eec41aeb-2e12-4ec6-a5c5-b1464a07b4e6",
   "metadata": {},
   "outputs": [],
   "source": []
  }
 ],
 "metadata": {
  "kernelspec": {
   "display_name": "Python 3",
   "language": "python",
   "name": "python3"
  },
  "language_info": {
   "codemirror_mode": {
    "name": "ipython",
    "version": 3
   },
   "file_extension": ".py",
   "mimetype": "text/x-python",
   "name": "python",
   "nbconvert_exporter": "python",
   "pygments_lexer": "ipython3",
   "version": "3.8.8"
  }
 },
 "nbformat": 4,
 "nbformat_minor": 5
}
